{
 "cells": [
  {
   "cell_type": "markdown",
   "metadata": {},
   "source": [
    "### Autistic Spectrum Disorder Screening using Machine Learning\n",
    "\n",
    "Dataset : https://archive.ics.uci.edu/ml/datasets/Autistic+Spectrum+Disorder+Screening+Data+for+Children++"
   ]
  },
  {
   "cell_type": "code",
   "execution_count": 1,
   "metadata": {},
   "outputs": [
    {
     "name": "stderr",
     "output_type": "stream",
     "text": [
      "Using TensorFlow backend.\n"
     ]
    }
   ],
   "source": [
    "import sys\n",
    "import pandas as pd\n",
    "import sklearn\n",
    "import keras\n",
    "from scipy.io import arff\n",
    "import pandas as pd\n",
    "import numpy as np\n",
    "import matplotlib.pyplot as plt"
   ]
  },
  {
   "cell_type": "code",
   "execution_count": 2,
   "metadata": {
    "collapsed": true
   },
   "outputs": [],
   "source": [
    "# Function for Plotting Loss Vs Epochs\n",
    "plt.rcParams['axes.facecolor'] = 'white'\n",
    "def plt_dynamic(x, vy, ty):\n",
    "    plt.figure(figsize=(20,10))\n",
    "    plt.plot(x, vy, 'b', label=\"Test Loss\")\n",
    "    plt.plot(x, ty, 'r', label=\"Train Loss\")\n",
    "    plt.xlabel(\"Epochs\")\n",
    "    plt.ylabel(\"Loss\")\n",
    "    plt.title(\"Model's Train & Test loss across epochs\")\n",
    "    plt.legend()\n",
    "    plt.grid(c='grey')\n",
    "    plt.show()"
   ]
  },
  {
   "cell_type": "markdown",
   "metadata": {},
   "source": [
    "### Importing the Dataset"
   ]
  },
  {
   "cell_type": "code",
   "execution_count": 3,
   "metadata": {
    "collapsed": true
   },
   "outputs": [],
   "source": [
    "# import the dataset and read the csv\n",
    "data_arff = arff.loadarff('Autism-Screening-Child-Data Plus Description/Autism-Child-Data.arff')\n",
    "data = pd.DataFrame(data_arff[0])\n",
    "data['A1_Score'] = data['A1_Score'].str.decode('utf-8')\n",
    "data['A2_Score'] = data['A2_Score'].str.decode('utf-8')\n",
    "data['A3_Score'] = data['A3_Score'].str.decode('utf-8')\n",
    "data['A4_Score'] = data['A4_Score'].str.decode('utf-8')\n",
    "data['A5_Score'] = data['A5_Score'].str.decode('utf-8')\n",
    "data['A6_Score'] = data['A6_Score'].str.decode('utf-8')\n",
    "data['A7_Score'] = data['A7_Score'].str.decode('utf-8')\n",
    "data['A8_Score'] = data['A8_Score'].str.decode('utf-8')\n",
    "data['A9_Score'] = data['A9_Score'].str.decode('utf-8')\n",
    "data['A10_Score'] = data['A10_Score'].str.decode('utf-8')\n",
    "data['gender'] = data['gender'].str.decode('utf-8')\n",
    "data['ethnicity'] = data['ethnicity'].str.decode('utf-8')\n",
    "data['jundice'] = data['jundice'].str.decode('utf-8')\n",
    "data['austim'] = data['austim'].str.decode('utf-8')\n",
    "data['contry_of_res'] = data['contry_of_res'].str.decode('utf-8')\n",
    "data['used_app_before'] = data['used_app_before'].str.decode('utf-8')\n",
    "data['age_desc'] = data['age_desc'].str.decode('utf-8')\n",
    "data['relation'] = data['relation'].str.decode('utf-8')\n",
    "data['Class/ASD'] = data['Class/ASD'].str.decode('utf-8')"
   ]
  },
  {
   "cell_type": "code",
   "execution_count": 4,
   "metadata": {},
   "outputs": [
    {
     "name": "stdout",
     "output_type": "stream",
     "text": [
      "Shape of DataFrame: (292, 21)\n",
      "A1_Score                      1\n",
      "A2_Score                      1\n",
      "A3_Score                      0\n",
      "A4_Score                      0\n",
      "A5_Score                      1\n",
      "A6_Score                      1\n",
      "A7_Score                      0\n",
      "A8_Score                      1\n",
      "A9_Score                      0\n",
      "A10_Score                     0\n",
      "age                           6\n",
      "gender                        m\n",
      "ethnicity                Others\n",
      "jundice                      no\n",
      "austim                       no\n",
      "contry_of_res            Jordan\n",
      "used_app_before              no\n",
      "result                        5\n",
      "age_desc           '4-11 years'\n",
      "relation                 Parent\n",
      "Class/ASD                    NO\n",
      "Name: 0, dtype: object\n"
     ]
    }
   ],
   "source": [
    "# print the shape of the DataFrame\n",
    "print('Shape of DataFrame: {}'.format(data.shape))\n",
    "print(data.loc[0])"
   ]
  },
  {
   "cell_type": "code",
   "execution_count": 5,
   "metadata": {},
   "outputs": [
    {
     "data": {
      "text/html": [
       "<div>\n",
       "<style scoped>\n",
       "    .dataframe tbody tr th:only-of-type {\n",
       "        vertical-align: middle;\n",
       "    }\n",
       "\n",
       "    .dataframe tbody tr th {\n",
       "        vertical-align: top;\n",
       "    }\n",
       "\n",
       "    .dataframe thead th {\n",
       "        text-align: right;\n",
       "    }\n",
       "</style>\n",
       "<table border=\"1\" class=\"dataframe\">\n",
       "  <thead>\n",
       "    <tr style=\"text-align: right;\">\n",
       "      <th></th>\n",
       "      <th>A1_Score</th>\n",
       "      <th>A2_Score</th>\n",
       "      <th>A3_Score</th>\n",
       "      <th>A4_Score</th>\n",
       "      <th>A5_Score</th>\n",
       "      <th>A6_Score</th>\n",
       "      <th>A7_Score</th>\n",
       "      <th>A8_Score</th>\n",
       "      <th>A9_Score</th>\n",
       "      <th>A10_Score</th>\n",
       "      <th>...</th>\n",
       "      <th>gender</th>\n",
       "      <th>ethnicity</th>\n",
       "      <th>jundice</th>\n",
       "      <th>austim</th>\n",
       "      <th>contry_of_res</th>\n",
       "      <th>used_app_before</th>\n",
       "      <th>result</th>\n",
       "      <th>age_desc</th>\n",
       "      <th>relation</th>\n",
       "      <th>Class/ASD</th>\n",
       "    </tr>\n",
       "  </thead>\n",
       "  <tbody>\n",
       "    <tr>\n",
       "      <th>0</th>\n",
       "      <td>1</td>\n",
       "      <td>1</td>\n",
       "      <td>0</td>\n",
       "      <td>0</td>\n",
       "      <td>1</td>\n",
       "      <td>1</td>\n",
       "      <td>0</td>\n",
       "      <td>1</td>\n",
       "      <td>0</td>\n",
       "      <td>0</td>\n",
       "      <td>...</td>\n",
       "      <td>m</td>\n",
       "      <td>Others</td>\n",
       "      <td>no</td>\n",
       "      <td>no</td>\n",
       "      <td>Jordan</td>\n",
       "      <td>no</td>\n",
       "      <td>5.0</td>\n",
       "      <td>'4-11 years'</td>\n",
       "      <td>Parent</td>\n",
       "      <td>NO</td>\n",
       "    </tr>\n",
       "    <tr>\n",
       "      <th>1</th>\n",
       "      <td>1</td>\n",
       "      <td>1</td>\n",
       "      <td>0</td>\n",
       "      <td>0</td>\n",
       "      <td>1</td>\n",
       "      <td>1</td>\n",
       "      <td>0</td>\n",
       "      <td>1</td>\n",
       "      <td>0</td>\n",
       "      <td>0</td>\n",
       "      <td>...</td>\n",
       "      <td>m</td>\n",
       "      <td>'Middle Eastern '</td>\n",
       "      <td>no</td>\n",
       "      <td>no</td>\n",
       "      <td>Jordan</td>\n",
       "      <td>no</td>\n",
       "      <td>5.0</td>\n",
       "      <td>'4-11 years'</td>\n",
       "      <td>Parent</td>\n",
       "      <td>NO</td>\n",
       "    </tr>\n",
       "    <tr>\n",
       "      <th>2</th>\n",
       "      <td>1</td>\n",
       "      <td>1</td>\n",
       "      <td>0</td>\n",
       "      <td>0</td>\n",
       "      <td>0</td>\n",
       "      <td>1</td>\n",
       "      <td>1</td>\n",
       "      <td>1</td>\n",
       "      <td>0</td>\n",
       "      <td>0</td>\n",
       "      <td>...</td>\n",
       "      <td>m</td>\n",
       "      <td>?</td>\n",
       "      <td>no</td>\n",
       "      <td>no</td>\n",
       "      <td>Jordan</td>\n",
       "      <td>yes</td>\n",
       "      <td>5.0</td>\n",
       "      <td>'4-11 years'</td>\n",
       "      <td>?</td>\n",
       "      <td>NO</td>\n",
       "    </tr>\n",
       "    <tr>\n",
       "      <th>3</th>\n",
       "      <td>0</td>\n",
       "      <td>1</td>\n",
       "      <td>0</td>\n",
       "      <td>0</td>\n",
       "      <td>1</td>\n",
       "      <td>1</td>\n",
       "      <td>0</td>\n",
       "      <td>0</td>\n",
       "      <td>0</td>\n",
       "      <td>1</td>\n",
       "      <td>...</td>\n",
       "      <td>f</td>\n",
       "      <td>?</td>\n",
       "      <td>yes</td>\n",
       "      <td>no</td>\n",
       "      <td>Jordan</td>\n",
       "      <td>no</td>\n",
       "      <td>4.0</td>\n",
       "      <td>'4-11 years'</td>\n",
       "      <td>?</td>\n",
       "      <td>NO</td>\n",
       "    </tr>\n",
       "    <tr>\n",
       "      <th>4</th>\n",
       "      <td>1</td>\n",
       "      <td>1</td>\n",
       "      <td>1</td>\n",
       "      <td>1</td>\n",
       "      <td>1</td>\n",
       "      <td>1</td>\n",
       "      <td>1</td>\n",
       "      <td>1</td>\n",
       "      <td>1</td>\n",
       "      <td>1</td>\n",
       "      <td>...</td>\n",
       "      <td>m</td>\n",
       "      <td>Others</td>\n",
       "      <td>yes</td>\n",
       "      <td>no</td>\n",
       "      <td>'United States'</td>\n",
       "      <td>no</td>\n",
       "      <td>10.0</td>\n",
       "      <td>'4-11 years'</td>\n",
       "      <td>Parent</td>\n",
       "      <td>YES</td>\n",
       "    </tr>\n",
       "  </tbody>\n",
       "</table>\n",
       "<p>5 rows × 21 columns</p>\n",
       "</div>"
      ],
      "text/plain": [
       "  A1_Score A2_Score A3_Score A4_Score A5_Score A6_Score A7_Score A8_Score  \\\n",
       "0        1        1        0        0        1        1        0        1   \n",
       "1        1        1        0        0        1        1        0        1   \n",
       "2        1        1        0        0        0        1        1        1   \n",
       "3        0        1        0        0        1        1        0        0   \n",
       "4        1        1        1        1        1        1        1        1   \n",
       "\n",
       "  A9_Score A10_Score    ...     gender          ethnicity jundice austim  \\\n",
       "0        0         0    ...          m             Others      no     no   \n",
       "1        0         0    ...          m  'Middle Eastern '      no     no   \n",
       "2        0         0    ...          m                  ?      no     no   \n",
       "3        0         1    ...          f                  ?     yes     no   \n",
       "4        1         1    ...          m             Others     yes     no   \n",
       "\n",
       "     contry_of_res used_app_before result      age_desc relation Class/ASD  \n",
       "0           Jordan              no    5.0  '4-11 years'   Parent        NO  \n",
       "1           Jordan              no    5.0  '4-11 years'   Parent        NO  \n",
       "2           Jordan             yes    5.0  '4-11 years'        ?        NO  \n",
       "3           Jordan              no    4.0  '4-11 years'        ?        NO  \n",
       "4  'United States'              no   10.0  '4-11 years'   Parent       YES  \n",
       "\n",
       "[5 rows x 21 columns]"
      ]
     },
     "execution_count": 5,
     "metadata": {},
     "output_type": "execute_result"
    }
   ],
   "source": [
    "data.head()"
   ]
  },
  {
   "cell_type": "code",
   "execution_count": 6,
   "metadata": {},
   "outputs": [
    {
     "data": {
      "text/plain": [
       "1"
      ]
     },
     "execution_count": 6,
     "metadata": {},
     "output_type": "execute_result"
    }
   ],
   "source": [
    "data.isnull().values.any().sum()"
   ]
  },
  {
   "cell_type": "code",
   "execution_count": 7,
   "metadata": {},
   "outputs": [
    {
     "data": {
      "text/html": [
       "<div>\n",
       "<style scoped>\n",
       "    .dataframe tbody tr th:only-of-type {\n",
       "        vertical-align: middle;\n",
       "    }\n",
       "\n",
       "    .dataframe tbody tr th {\n",
       "        vertical-align: top;\n",
       "    }\n",
       "\n",
       "    .dataframe thead th {\n",
       "        text-align: right;\n",
       "    }\n",
       "</style>\n",
       "<table border=\"1\" class=\"dataframe\">\n",
       "  <thead>\n",
       "    <tr style=\"text-align: right;\">\n",
       "      <th></th>\n",
       "      <th>age</th>\n",
       "      <th>result</th>\n",
       "    </tr>\n",
       "  </thead>\n",
       "  <tbody>\n",
       "    <tr>\n",
       "      <th>count</th>\n",
       "      <td>288.000000</td>\n",
       "      <td>292.000000</td>\n",
       "    </tr>\n",
       "    <tr>\n",
       "      <th>mean</th>\n",
       "      <td>6.354167</td>\n",
       "      <td>6.239726</td>\n",
       "    </tr>\n",
       "    <tr>\n",
       "      <th>std</th>\n",
       "      <td>2.365456</td>\n",
       "      <td>2.284882</td>\n",
       "    </tr>\n",
       "    <tr>\n",
       "      <th>min</th>\n",
       "      <td>4.000000</td>\n",
       "      <td>0.000000</td>\n",
       "    </tr>\n",
       "    <tr>\n",
       "      <th>25%</th>\n",
       "      <td>4.000000</td>\n",
       "      <td>5.000000</td>\n",
       "    </tr>\n",
       "    <tr>\n",
       "      <th>50%</th>\n",
       "      <td>6.000000</td>\n",
       "      <td>6.000000</td>\n",
       "    </tr>\n",
       "    <tr>\n",
       "      <th>75%</th>\n",
       "      <td>8.000000</td>\n",
       "      <td>8.000000</td>\n",
       "    </tr>\n",
       "    <tr>\n",
       "      <th>max</th>\n",
       "      <td>11.000000</td>\n",
       "      <td>10.000000</td>\n",
       "    </tr>\n",
       "  </tbody>\n",
       "</table>\n",
       "</div>"
      ],
      "text/plain": [
       "              age      result\n",
       "count  288.000000  292.000000\n",
       "mean     6.354167    6.239726\n",
       "std      2.365456    2.284882\n",
       "min      4.000000    0.000000\n",
       "25%      4.000000    5.000000\n",
       "50%      6.000000    6.000000\n",
       "75%      8.000000    8.000000\n",
       "max     11.000000   10.000000"
      ]
     },
     "execution_count": 7,
     "metadata": {},
     "output_type": "execute_result"
    }
   ],
   "source": [
    "data.describe()"
   ]
  },
  {
   "cell_type": "code",
   "execution_count": 8,
   "metadata": {},
   "outputs": [
    {
     "data": {
      "text/plain": [
       "age    4\n",
       "dtype: int64"
      ]
     },
     "execution_count": 8,
     "metadata": {},
     "output_type": "execute_result"
    }
   ],
   "source": [
    "null_columns=data.columns[data.isnull().any()]\n",
    "data[null_columns].isnull().sum()"
   ]
  },
  {
   "cell_type": "code",
   "execution_count": 9,
   "metadata": {},
   "outputs": [
    {
     "name": "stdout",
     "output_type": "stream",
     "text": [
      "     age\n",
      "32   NaN\n",
      "65   NaN\n",
      "126  NaN\n",
      "138  NaN\n"
     ]
    }
   ],
   "source": [
    "print(data[data.isnull().any(axis=1)][null_columns].head())"
   ]
  },
  {
   "cell_type": "code",
   "execution_count": 10,
   "metadata": {
    "collapsed": true
   },
   "outputs": [],
   "source": [
    "median = data['age'].median()\n",
    "data['age'].fillna(median, inplace=True)"
   ]
  },
  {
   "cell_type": "code",
   "execution_count": 11,
   "metadata": {},
   "outputs": [
    {
     "data": {
      "text/plain": [
       "False"
      ]
     },
     "execution_count": 11,
     "metadata": {},
     "output_type": "execute_result"
    }
   ],
   "source": [
    "data['age'].isnull().any()"
   ]
  },
  {
   "cell_type": "markdown",
   "metadata": {},
   "source": [
    "### Data Preprocessing"
   ]
  },
  {
   "cell_type": "code",
   "execution_count": 12,
   "metadata": {
    "collapsed": true
   },
   "outputs": [],
   "source": [
    "data = data.drop(['result', 'age_desc'], axis=1)"
   ]
  },
  {
   "cell_type": "code",
   "execution_count": 13,
   "metadata": {},
   "outputs": [
    {
     "data": {
      "text/html": [
       "<div>\n",
       "<style scoped>\n",
       "    .dataframe tbody tr th:only-of-type {\n",
       "        vertical-align: middle;\n",
       "    }\n",
       "\n",
       "    .dataframe tbody tr th {\n",
       "        vertical-align: top;\n",
       "    }\n",
       "\n",
       "    .dataframe thead th {\n",
       "        text-align: right;\n",
       "    }\n",
       "</style>\n",
       "<table border=\"1\" class=\"dataframe\">\n",
       "  <thead>\n",
       "    <tr style=\"text-align: right;\">\n",
       "      <th></th>\n",
       "      <th>A1_Score</th>\n",
       "      <th>A2_Score</th>\n",
       "      <th>A3_Score</th>\n",
       "      <th>A4_Score</th>\n",
       "      <th>A5_Score</th>\n",
       "      <th>A6_Score</th>\n",
       "      <th>A7_Score</th>\n",
       "      <th>A8_Score</th>\n",
       "      <th>A9_Score</th>\n",
       "      <th>A10_Score</th>\n",
       "      <th>age</th>\n",
       "      <th>gender</th>\n",
       "      <th>ethnicity</th>\n",
       "      <th>jundice</th>\n",
       "      <th>austim</th>\n",
       "      <th>contry_of_res</th>\n",
       "      <th>used_app_before</th>\n",
       "      <th>relation</th>\n",
       "      <th>Class/ASD</th>\n",
       "    </tr>\n",
       "  </thead>\n",
       "  <tbody>\n",
       "    <tr>\n",
       "      <th>0</th>\n",
       "      <td>1</td>\n",
       "      <td>1</td>\n",
       "      <td>0</td>\n",
       "      <td>0</td>\n",
       "      <td>1</td>\n",
       "      <td>1</td>\n",
       "      <td>0</td>\n",
       "      <td>1</td>\n",
       "      <td>0</td>\n",
       "      <td>0</td>\n",
       "      <td>6.0</td>\n",
       "      <td>m</td>\n",
       "      <td>Others</td>\n",
       "      <td>no</td>\n",
       "      <td>no</td>\n",
       "      <td>Jordan</td>\n",
       "      <td>no</td>\n",
       "      <td>Parent</td>\n",
       "      <td>NO</td>\n",
       "    </tr>\n",
       "    <tr>\n",
       "      <th>1</th>\n",
       "      <td>1</td>\n",
       "      <td>1</td>\n",
       "      <td>0</td>\n",
       "      <td>0</td>\n",
       "      <td>1</td>\n",
       "      <td>1</td>\n",
       "      <td>0</td>\n",
       "      <td>1</td>\n",
       "      <td>0</td>\n",
       "      <td>0</td>\n",
       "      <td>6.0</td>\n",
       "      <td>m</td>\n",
       "      <td>'Middle Eastern '</td>\n",
       "      <td>no</td>\n",
       "      <td>no</td>\n",
       "      <td>Jordan</td>\n",
       "      <td>no</td>\n",
       "      <td>Parent</td>\n",
       "      <td>NO</td>\n",
       "    </tr>\n",
       "    <tr>\n",
       "      <th>2</th>\n",
       "      <td>1</td>\n",
       "      <td>1</td>\n",
       "      <td>0</td>\n",
       "      <td>0</td>\n",
       "      <td>0</td>\n",
       "      <td>1</td>\n",
       "      <td>1</td>\n",
       "      <td>1</td>\n",
       "      <td>0</td>\n",
       "      <td>0</td>\n",
       "      <td>6.0</td>\n",
       "      <td>m</td>\n",
       "      <td>?</td>\n",
       "      <td>no</td>\n",
       "      <td>no</td>\n",
       "      <td>Jordan</td>\n",
       "      <td>yes</td>\n",
       "      <td>?</td>\n",
       "      <td>NO</td>\n",
       "    </tr>\n",
       "    <tr>\n",
       "      <th>3</th>\n",
       "      <td>0</td>\n",
       "      <td>1</td>\n",
       "      <td>0</td>\n",
       "      <td>0</td>\n",
       "      <td>1</td>\n",
       "      <td>1</td>\n",
       "      <td>0</td>\n",
       "      <td>0</td>\n",
       "      <td>0</td>\n",
       "      <td>1</td>\n",
       "      <td>5.0</td>\n",
       "      <td>f</td>\n",
       "      <td>?</td>\n",
       "      <td>yes</td>\n",
       "      <td>no</td>\n",
       "      <td>Jordan</td>\n",
       "      <td>no</td>\n",
       "      <td>?</td>\n",
       "      <td>NO</td>\n",
       "    </tr>\n",
       "    <tr>\n",
       "      <th>4</th>\n",
       "      <td>1</td>\n",
       "      <td>1</td>\n",
       "      <td>1</td>\n",
       "      <td>1</td>\n",
       "      <td>1</td>\n",
       "      <td>1</td>\n",
       "      <td>1</td>\n",
       "      <td>1</td>\n",
       "      <td>1</td>\n",
       "      <td>1</td>\n",
       "      <td>5.0</td>\n",
       "      <td>m</td>\n",
       "      <td>Others</td>\n",
       "      <td>yes</td>\n",
       "      <td>no</td>\n",
       "      <td>'United States'</td>\n",
       "      <td>no</td>\n",
       "      <td>Parent</td>\n",
       "      <td>YES</td>\n",
       "    </tr>\n",
       "  </tbody>\n",
       "</table>\n",
       "</div>"
      ],
      "text/plain": [
       "  A1_Score A2_Score A3_Score A4_Score A5_Score A6_Score A7_Score A8_Score  \\\n",
       "0        1        1        0        0        1        1        0        1   \n",
       "1        1        1        0        0        1        1        0        1   \n",
       "2        1        1        0        0        0        1        1        1   \n",
       "3        0        1        0        0        1        1        0        0   \n",
       "4        1        1        1        1        1        1        1        1   \n",
       "\n",
       "  A9_Score A10_Score  age gender          ethnicity jundice austim  \\\n",
       "0        0         0  6.0      m             Others      no     no   \n",
       "1        0         0  6.0      m  'Middle Eastern '      no     no   \n",
       "2        0         0  6.0      m                  ?      no     no   \n",
       "3        0         1  5.0      f                  ?     yes     no   \n",
       "4        1         1  5.0      m             Others     yes     no   \n",
       "\n",
       "     contry_of_res used_app_before relation Class/ASD  \n",
       "0           Jordan              no   Parent        NO  \n",
       "1           Jordan              no   Parent        NO  \n",
       "2           Jordan             yes        ?        NO  \n",
       "3           Jordan              no        ?        NO  \n",
       "4  'United States'              no   Parent       YES  "
      ]
     },
     "execution_count": 13,
     "metadata": {},
     "output_type": "execute_result"
    }
   ],
   "source": [
    "data.head()"
   ]
  },
  {
   "cell_type": "code",
   "execution_count": 14,
   "metadata": {
    "collapsed": true
   },
   "outputs": [],
   "source": [
    "# create X and Y datasets for training\n",
    "X = data.drop(['Class/ASD'], 1)\n",
    "y = data['Class/ASD']"
   ]
  },
  {
   "cell_type": "code",
   "execution_count": 15,
   "metadata": {},
   "outputs": [
    {
     "data": {
      "text/html": [
       "<div>\n",
       "<style scoped>\n",
       "    .dataframe tbody tr th:only-of-type {\n",
       "        vertical-align: middle;\n",
       "    }\n",
       "\n",
       "    .dataframe tbody tr th {\n",
       "        vertical-align: top;\n",
       "    }\n",
       "\n",
       "    .dataframe thead th {\n",
       "        text-align: right;\n",
       "    }\n",
       "</style>\n",
       "<table border=\"1\" class=\"dataframe\">\n",
       "  <thead>\n",
       "    <tr style=\"text-align: right;\">\n",
       "      <th></th>\n",
       "      <th>A1_Score</th>\n",
       "      <th>A2_Score</th>\n",
       "      <th>A3_Score</th>\n",
       "      <th>A4_Score</th>\n",
       "      <th>A5_Score</th>\n",
       "      <th>A6_Score</th>\n",
       "      <th>A7_Score</th>\n",
       "      <th>A8_Score</th>\n",
       "      <th>A9_Score</th>\n",
       "      <th>A10_Score</th>\n",
       "      <th>age</th>\n",
       "      <th>gender</th>\n",
       "      <th>ethnicity</th>\n",
       "      <th>jundice</th>\n",
       "      <th>austim</th>\n",
       "      <th>contry_of_res</th>\n",
       "      <th>used_app_before</th>\n",
       "      <th>relation</th>\n",
       "    </tr>\n",
       "  </thead>\n",
       "  <tbody>\n",
       "    <tr>\n",
       "      <th>0</th>\n",
       "      <td>1</td>\n",
       "      <td>1</td>\n",
       "      <td>0</td>\n",
       "      <td>0</td>\n",
       "      <td>1</td>\n",
       "      <td>1</td>\n",
       "      <td>0</td>\n",
       "      <td>1</td>\n",
       "      <td>0</td>\n",
       "      <td>0</td>\n",
       "      <td>6.0</td>\n",
       "      <td>m</td>\n",
       "      <td>Others</td>\n",
       "      <td>no</td>\n",
       "      <td>no</td>\n",
       "      <td>Jordan</td>\n",
       "      <td>no</td>\n",
       "      <td>Parent</td>\n",
       "    </tr>\n",
       "    <tr>\n",
       "      <th>1</th>\n",
       "      <td>1</td>\n",
       "      <td>1</td>\n",
       "      <td>0</td>\n",
       "      <td>0</td>\n",
       "      <td>1</td>\n",
       "      <td>1</td>\n",
       "      <td>0</td>\n",
       "      <td>1</td>\n",
       "      <td>0</td>\n",
       "      <td>0</td>\n",
       "      <td>6.0</td>\n",
       "      <td>m</td>\n",
       "      <td>'Middle Eastern '</td>\n",
       "      <td>no</td>\n",
       "      <td>no</td>\n",
       "      <td>Jordan</td>\n",
       "      <td>no</td>\n",
       "      <td>Parent</td>\n",
       "    </tr>\n",
       "    <tr>\n",
       "      <th>2</th>\n",
       "      <td>1</td>\n",
       "      <td>1</td>\n",
       "      <td>0</td>\n",
       "      <td>0</td>\n",
       "      <td>0</td>\n",
       "      <td>1</td>\n",
       "      <td>1</td>\n",
       "      <td>1</td>\n",
       "      <td>0</td>\n",
       "      <td>0</td>\n",
       "      <td>6.0</td>\n",
       "      <td>m</td>\n",
       "      <td>?</td>\n",
       "      <td>no</td>\n",
       "      <td>no</td>\n",
       "      <td>Jordan</td>\n",
       "      <td>yes</td>\n",
       "      <td>?</td>\n",
       "    </tr>\n",
       "    <tr>\n",
       "      <th>3</th>\n",
       "      <td>0</td>\n",
       "      <td>1</td>\n",
       "      <td>0</td>\n",
       "      <td>0</td>\n",
       "      <td>1</td>\n",
       "      <td>1</td>\n",
       "      <td>0</td>\n",
       "      <td>0</td>\n",
       "      <td>0</td>\n",
       "      <td>1</td>\n",
       "      <td>5.0</td>\n",
       "      <td>f</td>\n",
       "      <td>?</td>\n",
       "      <td>yes</td>\n",
       "      <td>no</td>\n",
       "      <td>Jordan</td>\n",
       "      <td>no</td>\n",
       "      <td>?</td>\n",
       "    </tr>\n",
       "    <tr>\n",
       "      <th>4</th>\n",
       "      <td>1</td>\n",
       "      <td>1</td>\n",
       "      <td>1</td>\n",
       "      <td>1</td>\n",
       "      <td>1</td>\n",
       "      <td>1</td>\n",
       "      <td>1</td>\n",
       "      <td>1</td>\n",
       "      <td>1</td>\n",
       "      <td>1</td>\n",
       "      <td>5.0</td>\n",
       "      <td>m</td>\n",
       "      <td>Others</td>\n",
       "      <td>yes</td>\n",
       "      <td>no</td>\n",
       "      <td>'United States'</td>\n",
       "      <td>no</td>\n",
       "      <td>Parent</td>\n",
       "    </tr>\n",
       "  </tbody>\n",
       "</table>\n",
       "</div>"
      ],
      "text/plain": [
       "  A1_Score A2_Score A3_Score A4_Score A5_Score A6_Score A7_Score A8_Score  \\\n",
       "0        1        1        0        0        1        1        0        1   \n",
       "1        1        1        0        0        1        1        0        1   \n",
       "2        1        1        0        0        0        1        1        1   \n",
       "3        0        1        0        0        1        1        0        0   \n",
       "4        1        1        1        1        1        1        1        1   \n",
       "\n",
       "  A9_Score A10_Score  age gender          ethnicity jundice austim  \\\n",
       "0        0         0  6.0      m             Others      no     no   \n",
       "1        0         0  6.0      m  'Middle Eastern '      no     no   \n",
       "2        0         0  6.0      m                  ?      no     no   \n",
       "3        0         1  5.0      f                  ?     yes     no   \n",
       "4        1         1  5.0      m             Others     yes     no   \n",
       "\n",
       "     contry_of_res used_app_before relation  \n",
       "0           Jordan              no   Parent  \n",
       "1           Jordan              no   Parent  \n",
       "2           Jordan             yes        ?  \n",
       "3           Jordan              no        ?  \n",
       "4  'United States'              no   Parent  "
      ]
     },
     "execution_count": 15,
     "metadata": {},
     "output_type": "execute_result"
    }
   ],
   "source": [
    "X.head()"
   ]
  },
  {
   "cell_type": "code",
   "execution_count": 16,
   "metadata": {
    "collapsed": true
   },
   "outputs": [],
   "source": [
    "# convert the data to categorical values - one-hot-encoded vectors\n",
    "X = pd.get_dummies(X)"
   ]
  },
  {
   "cell_type": "code",
   "execution_count": 17,
   "metadata": {},
   "outputs": [
    {
     "data": {
      "text/plain": [
       "array(['age', 'A1_Score_0', 'A1_Score_1', 'A2_Score_0', 'A2_Score_1',\n",
       "       'A3_Score_0', 'A3_Score_1', 'A4_Score_0', 'A4_Score_1',\n",
       "       'A5_Score_0', 'A5_Score_1', 'A6_Score_0', 'A6_Score_1',\n",
       "       'A7_Score_0', 'A7_Score_1', 'A8_Score_0', 'A8_Score_1',\n",
       "       'A9_Score_0', 'A9_Score_1', 'A10_Score_0', 'A10_Score_1',\n",
       "       'gender_f', 'gender_m', \"ethnicity_'Middle Eastern '\",\n",
       "       \"ethnicity_'South Asian'\", 'ethnicity_?', 'ethnicity_Asian',\n",
       "       'ethnicity_Black', 'ethnicity_Hispanic', 'ethnicity_Latino',\n",
       "       'ethnicity_Others', 'ethnicity_Pasifika', 'ethnicity_Turkish',\n",
       "       'ethnicity_White-European', 'jundice_no', 'jundice_yes',\n",
       "       'austim_no', 'austim_yes', \"contry_of_res_'Costa Rica'\",\n",
       "       \"contry_of_res_'Isle of Man'\", \"contry_of_res_'New Zealand'\",\n",
       "       \"contry_of_res_'Saudi Arabia'\", \"contry_of_res_'South Africa'\",\n",
       "       \"contry_of_res_'South Korea'\",\n",
       "       \"contry_of_res_'U.S. Outlying Islands'\",\n",
       "       \"contry_of_res_'United Arab Emirates'\",\n",
       "       \"contry_of_res_'United Kingdom'\", \"contry_of_res_'United States'\",\n",
       "       'contry_of_res_Afghanistan', 'contry_of_res_Argentina',\n",
       "       'contry_of_res_Armenia', 'contry_of_res_Australia',\n",
       "       'contry_of_res_Austria', 'contry_of_res_Bahrain',\n",
       "       'contry_of_res_Bangladesh', 'contry_of_res_Bhutan',\n",
       "       'contry_of_res_Brazil', 'contry_of_res_Bulgaria',\n",
       "       'contry_of_res_Canada', 'contry_of_res_China',\n",
       "       'contry_of_res_Egypt', 'contry_of_res_Europe',\n",
       "       'contry_of_res_Georgia', 'contry_of_res_Germany',\n",
       "       'contry_of_res_Ghana', 'contry_of_res_India', 'contry_of_res_Iraq',\n",
       "       'contry_of_res_Ireland', 'contry_of_res_Italy',\n",
       "       'contry_of_res_Japan', 'contry_of_res_Jordan',\n",
       "       'contry_of_res_Kuwait', 'contry_of_res_Latvia',\n",
       "       'contry_of_res_Lebanon', 'contry_of_res_Libya',\n",
       "       'contry_of_res_Malaysia', 'contry_of_res_Malta',\n",
       "       'contry_of_res_Mexico', 'contry_of_res_Nepal',\n",
       "       'contry_of_res_Netherlands', 'contry_of_res_Nigeria',\n",
       "       'contry_of_res_Oman', 'contry_of_res_Pakistan',\n",
       "       'contry_of_res_Philippines', 'contry_of_res_Qatar',\n",
       "       'contry_of_res_Romania', 'contry_of_res_Russia',\n",
       "       'contry_of_res_Sweden', 'contry_of_res_Syria',\n",
       "       'contry_of_res_Turkey', 'used_app_before_no',\n",
       "       'used_app_before_yes', \"relation_'Health care professional'\",\n",
       "       'relation_?', 'relation_Parent', 'relation_Relative',\n",
       "       'relation_Self', 'relation_self'], dtype=object)"
      ]
     },
     "execution_count": 17,
     "metadata": {},
     "output_type": "execute_result"
    }
   ],
   "source": [
    "# print the new categorical column labels\n",
    "X.columns.values"
   ]
  },
  {
   "cell_type": "code",
   "execution_count": 18,
   "metadata": {},
   "outputs": [
    {
     "data": {
      "text/html": [
       "<div>\n",
       "<style scoped>\n",
       "    .dataframe tbody tr th:only-of-type {\n",
       "        vertical-align: middle;\n",
       "    }\n",
       "\n",
       "    .dataframe tbody tr th {\n",
       "        vertical-align: top;\n",
       "    }\n",
       "\n",
       "    .dataframe thead th {\n",
       "        text-align: right;\n",
       "    }\n",
       "</style>\n",
       "<table border=\"1\" class=\"dataframe\">\n",
       "  <thead>\n",
       "    <tr style=\"text-align: right;\">\n",
       "      <th></th>\n",
       "      <th>age</th>\n",
       "      <th>A1_Score_0</th>\n",
       "      <th>A1_Score_1</th>\n",
       "      <th>A2_Score_0</th>\n",
       "      <th>A2_Score_1</th>\n",
       "      <th>A3_Score_0</th>\n",
       "      <th>A3_Score_1</th>\n",
       "      <th>A4_Score_0</th>\n",
       "      <th>A4_Score_1</th>\n",
       "      <th>A5_Score_0</th>\n",
       "      <th>...</th>\n",
       "      <th>contry_of_res_Syria</th>\n",
       "      <th>contry_of_res_Turkey</th>\n",
       "      <th>used_app_before_no</th>\n",
       "      <th>used_app_before_yes</th>\n",
       "      <th>relation_'Health care professional'</th>\n",
       "      <th>relation_?</th>\n",
       "      <th>relation_Parent</th>\n",
       "      <th>relation_Relative</th>\n",
       "      <th>relation_Self</th>\n",
       "      <th>relation_self</th>\n",
       "    </tr>\n",
       "  </thead>\n",
       "  <tbody>\n",
       "    <tr>\n",
       "      <th>0</th>\n",
       "      <td>6.0</td>\n",
       "      <td>0</td>\n",
       "      <td>1</td>\n",
       "      <td>0</td>\n",
       "      <td>1</td>\n",
       "      <td>1</td>\n",
       "      <td>0</td>\n",
       "      <td>1</td>\n",
       "      <td>0</td>\n",
       "      <td>0</td>\n",
       "      <td>...</td>\n",
       "      <td>0</td>\n",
       "      <td>0</td>\n",
       "      <td>1</td>\n",
       "      <td>0</td>\n",
       "      <td>0</td>\n",
       "      <td>0</td>\n",
       "      <td>1</td>\n",
       "      <td>0</td>\n",
       "      <td>0</td>\n",
       "      <td>0</td>\n",
       "    </tr>\n",
       "  </tbody>\n",
       "</table>\n",
       "<p>1 rows × 98 columns</p>\n",
       "</div>"
      ],
      "text/plain": [
       "   age  A1_Score_0  A1_Score_1  A2_Score_0  A2_Score_1  A3_Score_0  \\\n",
       "0  6.0           0           1           0           1           1   \n",
       "\n",
       "   A3_Score_1  A4_Score_0  A4_Score_1  A5_Score_0      ...        \\\n",
       "0           0           1           0           0      ...         \n",
       "\n",
       "   contry_of_res_Syria  contry_of_res_Turkey  used_app_before_no  \\\n",
       "0                    0                     0                   1   \n",
       "\n",
       "   used_app_before_yes  relation_'Health care professional'  relation_?  \\\n",
       "0                    0                                    0           0   \n",
       "\n",
       "   relation_Parent  relation_Relative  relation_Self  relation_self  \n",
       "0                1                  0              0              0  \n",
       "\n",
       "[1 rows x 98 columns]"
      ]
     },
     "execution_count": 18,
     "metadata": {},
     "output_type": "execute_result"
    }
   ],
   "source": [
    "X.head(1)"
   ]
  },
  {
   "cell_type": "code",
   "execution_count": 19,
   "metadata": {
    "collapsed": true
   },
   "outputs": [],
   "source": [
    "# convert the class data to categorical values\n",
    "y = pd.get_dummies(y)"
   ]
  },
  {
   "cell_type": "code",
   "execution_count": 20,
   "metadata": {},
   "outputs": [
    {
     "data": {
      "text/html": [
       "<div>\n",
       "<style scoped>\n",
       "    .dataframe tbody tr th:only-of-type {\n",
       "        vertical-align: middle;\n",
       "    }\n",
       "\n",
       "    .dataframe tbody tr th {\n",
       "        vertical-align: top;\n",
       "    }\n",
       "\n",
       "    .dataframe thead th {\n",
       "        text-align: right;\n",
       "    }\n",
       "</style>\n",
       "<table border=\"1\" class=\"dataframe\">\n",
       "  <thead>\n",
       "    <tr style=\"text-align: right;\">\n",
       "      <th></th>\n",
       "      <th>NO</th>\n",
       "      <th>YES</th>\n",
       "    </tr>\n",
       "  </thead>\n",
       "  <tbody>\n",
       "    <tr>\n",
       "      <th>0</th>\n",
       "      <td>1</td>\n",
       "      <td>0</td>\n",
       "    </tr>\n",
       "    <tr>\n",
       "      <th>1</th>\n",
       "      <td>1</td>\n",
       "      <td>0</td>\n",
       "    </tr>\n",
       "    <tr>\n",
       "      <th>2</th>\n",
       "      <td>1</td>\n",
       "      <td>0</td>\n",
       "    </tr>\n",
       "    <tr>\n",
       "      <th>3</th>\n",
       "      <td>1</td>\n",
       "      <td>0</td>\n",
       "    </tr>\n",
       "    <tr>\n",
       "      <th>4</th>\n",
       "      <td>0</td>\n",
       "      <td>1</td>\n",
       "    </tr>\n",
       "  </tbody>\n",
       "</table>\n",
       "</div>"
      ],
      "text/plain": [
       "   NO  YES\n",
       "0   1    0\n",
       "1   1    0\n",
       "2   1    0\n",
       "3   1    0\n",
       "4   0    1"
      ]
     },
     "execution_count": 20,
     "metadata": {},
     "output_type": "execute_result"
    }
   ],
   "source": [
    "y.head()"
   ]
  },
  {
   "cell_type": "markdown",
   "metadata": {},
   "source": [
    "### Split the Dataset into Training and Testing Datasets"
   ]
  },
  {
   "cell_type": "code",
   "execution_count": 21,
   "metadata": {
    "collapsed": true
   },
   "outputs": [],
   "source": [
    "from sklearn.model_selection import train_test_split\n",
    "# split the X and Y data into training and testing datasets\n",
    "X_train, X_test, y_train, y_test = train_test_split(X, y, test_size = 0.3)"
   ]
  },
  {
   "cell_type": "code",
   "execution_count": 22,
   "metadata": {},
   "outputs": [
    {
     "name": "stdout",
     "output_type": "stream",
     "text": [
      "(204, 98)\n",
      "(88, 98)\n",
      "(204, 2)\n",
      "(88, 2)\n"
     ]
    }
   ],
   "source": [
    "print(X_train.shape)\n",
    "print(X_test.shape)\n",
    "print(y_train.shape)\n",
    "print(y_test.shape)"
   ]
  },
  {
   "cell_type": "markdown",
   "metadata": {},
   "source": [
    "### Building the Network - Keras"
   ]
  },
  {
   "cell_type": "code",
   "execution_count": 23,
   "metadata": {},
   "outputs": [
    {
     "name": "stdout",
     "output_type": "stream",
     "text": [
      "_________________________________________________________________\n",
      "Layer (type)                 Output Shape              Param #   \n",
      "=================================================================\n",
      "dense_1 (Dense)              (None, 8)                 792       \n",
      "_________________________________________________________________\n",
      "dense_2 (Dense)              (None, 4)                 36        \n",
      "_________________________________________________________________\n",
      "dense_3 (Dense)              (None, 2)                 10        \n",
      "=================================================================\n",
      "Total params: 838\n",
      "Trainable params: 838\n",
      "Non-trainable params: 0\n",
      "_________________________________________________________________\n"
     ]
    }
   ],
   "source": [
    "from keras.models import Sequential\n",
    "from keras.layers import Dense\n",
    "from keras.optimizers import Adam\n",
    "\n",
    "def create_model():\n",
    "    model = Sequential()\n",
    "    model.add(Dense(8, input_dim=98, kernel_initializer='normal', activation='relu'))\n",
    "    model.add(Dense(4, kernel_initializer='normal', activation='relu'))\n",
    "    model.add(Dense(2, activation='sigmoid'))\n",
    "    # compile model\n",
    "    adam = Adam(lr=0.001)\n",
    "    model.compile(loss='categorical_crossentropy', optimizer=adam, metrics=['accuracy'])\n",
    "    return model\n",
    "model = create_model()\n",
    "model.summary()"
   ]
  },
  {
   "cell_type": "markdown",
   "metadata": {},
   "source": [
    "### Training the Network"
   ]
  },
  {
   "cell_type": "code",
   "execution_count": 24,
   "metadata": {},
   "outputs": [
    {
     "name": "stdout",
     "output_type": "stream",
     "text": [
      "Train on 204 samples, validate on 88 samples\n",
      "Epoch 1/30\n",
      "204/204 [==============================] - 36s 179ms/step - loss: 0.6932 - acc: 0.5049 - val_loss: 0.6916 - val_acc: 0.6023\n",
      "Epoch 2/30\n",
      "204/204 [==============================] - 0s 652us/step - loss: 0.6896 - acc: 0.5980 - val_loss: 0.6911 - val_acc: 0.4432\n",
      "Epoch 3/30\n",
      "204/204 [==============================] - 0s 838us/step - loss: 0.6851 - acc: 0.5686 - val_loss: 0.6849 - val_acc: 0.6023\n",
      "Epoch 4/30\n",
      "204/204 [==============================] - 0s 681us/step - loss: 0.6764 - acc: 0.8725 - val_loss: 0.6723 - val_acc: 0.8864\n",
      "Epoch 5/30\n",
      "204/204 [==============================] - 0s 799us/step - loss: 0.6615 - acc: 0.8676 - val_loss: 0.6538 - val_acc: 0.9318\n",
      "Epoch 6/30\n",
      "204/204 [==============================] - 0s 671us/step - loss: 0.6396 - acc: 0.9363 - val_loss: 0.6255 - val_acc: 0.9205\n",
      "Epoch 7/30\n",
      "204/204 [==============================] - 0s 691us/step - loss: 0.6128 - acc: 0.9510 - val_loss: 0.5959 - val_acc: 0.9659\n",
      "Epoch 8/30\n",
      "204/204 [==============================] - 0s 661us/step - loss: 0.5850 - acc: 0.8971 - val_loss: 0.5566 - val_acc: 0.8864\n",
      "Epoch 9/30\n",
      "204/204 [==============================] - 0s 715us/step - loss: 0.5520 - acc: 0.9706 - val_loss: 0.5244 - val_acc: 0.9205\n",
      "Epoch 10/30\n",
      "204/204 [==============================] - 0s 740us/step - loss: 0.5180 - acc: 0.9265 - val_loss: 0.4883 - val_acc: 0.8977\n",
      "Epoch 11/30\n",
      "204/204 [==============================] - 0s 710us/step - loss: 0.4855 - acc: 0.9412 - val_loss: 0.4530 - val_acc: 0.8750\n",
      "Epoch 12/30\n",
      "204/204 [==============================] - 0s 803us/step - loss: 0.4556 - acc: 0.9412 - val_loss: 0.4220 - val_acc: 0.8864\n",
      "Epoch 13/30\n",
      "204/204 [==============================] - 0s 676us/step - loss: 0.4251 - acc: 0.9412 - val_loss: 0.3922 - val_acc: 0.8750\n",
      "Epoch 14/30\n",
      "204/204 [==============================] - 0s 769us/step - loss: 0.3969 - acc: 0.9363 - val_loss: 0.3653 - val_acc: 0.9091\n",
      "Epoch 15/30\n",
      "204/204 [==============================] - 0s 691us/step - loss: 0.3710 - acc: 0.9706 - val_loss: 0.3405 - val_acc: 0.9091\n",
      "Epoch 16/30\n",
      "204/204 [==============================] - 0s 759us/step - loss: 0.3441 - acc: 0.9559 - val_loss: 0.3174 - val_acc: 0.9091\n",
      "Epoch 17/30\n",
      "204/204 [==============================] - 0s 759us/step - loss: 0.3218 - acc: 0.9755 - val_loss: 0.2962 - val_acc: 0.9659\n",
      "Epoch 18/30\n",
      "204/204 [==============================] - 0s 666us/step - loss: 0.2949 - acc: 0.9755 - val_loss: 0.2760 - val_acc: 0.9205\n",
      "Epoch 19/30\n",
      "204/204 [==============================] - 0s 784us/step - loss: 0.2707 - acc: 0.9853 - val_loss: 0.2565 - val_acc: 0.9659\n",
      "Epoch 20/30\n",
      "204/204 [==============================] - 0s 666us/step - loss: 0.2491 - acc: 0.9755 - val_loss: 0.2380 - val_acc: 0.9659\n",
      "Epoch 21/30\n",
      "204/204 [==============================] - 0s 735us/step - loss: 0.2254 - acc: 0.9951 - val_loss: 0.2208 - val_acc: 0.9659\n",
      "Epoch 22/30\n",
      "204/204 [==============================] - 0s 696us/step - loss: 0.2038 - acc: 0.9951 - val_loss: 0.2053 - val_acc: 0.9659\n",
      "Epoch 23/30\n",
      "204/204 [==============================] - 0s 666us/step - loss: 0.1835 - acc: 0.9951 - val_loss: 0.1894 - val_acc: 0.9773\n",
      "Epoch 24/30\n",
      "204/204 [==============================] - 0s 789us/step - loss: 0.1655 - acc: 1.0000 - val_loss: 0.1763 - val_acc: 0.9773\n",
      "Epoch 25/30\n",
      "204/204 [==============================] - 0s 740us/step - loss: 0.1495 - acc: 1.0000 - val_loss: 0.1638 - val_acc: 0.9773\n",
      "Epoch 26/30\n",
      "204/204 [==============================] - 0s 872us/step - loss: 0.1311 - acc: 1.0000 - val_loss: 0.1534 - val_acc: 0.9773\n",
      "Epoch 27/30\n",
      "204/204 [==============================] - 0s 799us/step - loss: 0.1185 - acc: 1.0000 - val_loss: 0.1440 - val_acc: 0.9773\n",
      "Epoch 28/30\n",
      "204/204 [==============================] - 0s 710us/step - loss: 0.1067 - acc: 1.0000 - val_loss: 0.1351 - val_acc: 0.9773\n",
      "Epoch 29/30\n",
      "204/204 [==============================] - 0s 862us/step - loss: 0.0981 - acc: 1.0000 - val_loss: 0.1282 - val_acc: 0.9886\n",
      "Epoch 30/30\n",
      "204/204 [==============================] - 0s 764us/step - loss: 0.0879 - acc: 1.0000 - val_loss: 0.1216 - val_acc: 0.9773\n"
     ]
    }
   ],
   "source": [
    "# fit the model to the training data\n",
    "history=model.fit(X_train, y_train,validation_data=(X_test,y_test),epochs=30, batch_size=10, verbose = 1)"
   ]
  },
  {
   "cell_type": "code",
   "execution_count": 25,
   "metadata": {},
   "outputs": [
    {
     "name": "stdout",
     "output_type": "stream",
     "text": [
      "Test Loss: 0.12159781361168082\n",
      "Train Loss: 0.08790833634488723\n"
     ]
    },
    {
     "data": {
      "image/png": "[encoded data removed]",
      "text/plain": [
       "<matplotlib.figure.Figure at 0x1f541775438>"
      ]
     },
     "metadata": {},
     "output_type": "display_data"
    }
   ],
   "source": [
    "epochs=30\n",
    "# Evaluating the model\n",
    "score = model.evaluate(X_test, y_test, verbose=0) \n",
    "print('Test Loss:', score[0])\n",
    "\n",
    "# Test and train Loss of the model\n",
    "model\n",
    "model_test = score[1]\n",
    "model_train = history.history['loss']\n",
    "print('Train Loss:', model_train[29])\n",
    "\n",
    "# Plotting Train and Test Loss VS no. of epochs\n",
    "# list of epoch numbers\n",
    "x = list(range(1,epochs+1))\n",
    "\n",
    "# Validation loss\n",
    "vy = history.history['val_loss']\n",
    "# Training loss\n",
    "ty = history.history['loss']\n",
    "\n",
    "# PLot Function for Loss vs Epochs\n",
    "plt_dynamic(x, vy, ty)"
   ]
  },
  {
   "cell_type": "markdown",
   "metadata": {},
   "source": [
    "### Testing and Performance Metrics"
   ]
  },
  {
   "cell_type": "code",
   "execution_count": 26,
   "metadata": {},
   "outputs": [
    {
     "data": {
      "text/plain": [
       "array([0, 0, 1, 1, 1, 1, 0, 1, 0, 1, 0, 0, 0, 1, 1, 0, 0, 0, 0, 1, 1, 1,\n",
       "       1, 0, 1, 1, 1, 1, 0, 1, 1, 1, 1, 1, 1, 1, 1, 1, 1, 0, 1, 0, 0, 1,\n",
       "       0, 1, 1, 1, 0, 0, 1, 1, 0, 0, 0, 0, 0, 0, 1, 0, 1, 1, 0, 1, 1, 1,\n",
       "       1, 0, 0, 0, 1, 0, 0, 0, 1, 0, 1, 0, 1, 1, 1, 1, 0, 0, 1, 1, 1, 1],\n",
       "      dtype=int64)"
      ]
     },
     "execution_count": 26,
     "metadata": {},
     "output_type": "execute_result"
    }
   ],
   "source": [
    "from sklearn.metrics import classification_report, accuracy_score\n",
    "\n",
    "predictions = model.predict_classes(X_test)\n",
    "predictions"
   ]
  },
  {
   "cell_type": "code",
   "execution_count": 27,
   "metadata": {},
   "outputs": [
    {
     "name": "stdout",
     "output_type": "stream",
     "text": [
      "Results for Categorical Model\n",
      "0.9772727272727273\n",
      "              precision    recall  f1-score   support\n",
      "\n",
      "           0       0.97      0.97      0.97        37\n",
      "           1       0.98      0.98      0.98        51\n",
      "\n",
      "   micro avg       0.98      0.98      0.98        88\n",
      "   macro avg       0.98      0.98      0.98        88\n",
      "weighted avg       0.98      0.98      0.98        88\n",
      "\n"
     ]
    }
   ],
   "source": [
    "print('Results for Categorical Model')\n",
    "print(accuracy_score(y_test[['YES']], predictions))\n",
    "print(classification_report(y_test[['YES']], predictions))"
   ]
  }
 ],
 "metadata": {
  "kernelspec": {
   "display_name": "Python 3",
   "language": "python",
   "name": "python3"
  },
  "language_info": {
   "codemirror_mode": {
    "name": "ipython",
    "version": 3
   },
   "file_extension": ".py",
   "mimetype": "text/x-python",
   "name": "python",
   "nbconvert_exporter": "python",
   "pygments_lexer": "ipython3",
   "version": "3.6.3"
  }
 },
 "nbformat": 4,
 "nbformat_minor": 2
}
